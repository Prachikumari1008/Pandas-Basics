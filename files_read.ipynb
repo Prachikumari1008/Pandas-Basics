{
 "cells": [
  {
   "cell_type": "markdown",
   "id": "51f57f9b-4cd0-475f-a3ef-041a7222a953",
   "metadata": {},
   "source": [
    "# Read different types of files using Pandas"
   ]
  },
  {
   "cell_type": "markdown",
   "id": "b8d0b5f5-b928-45d2-bde3-73674fd760a6",
   "metadata": {},
   "source": [
    "### JSON data "
   ]
  },
  {
   "cell_type": "code",
   "execution_count": 1,
   "id": "15eda745-47ac-4ac4-8689-f1a95767f476",
   "metadata": {},
   "outputs": [],
   "source": [
    "exercise = {\n",
    "  \"Duration\":{\n",
    "    \"0\":60,\n",
    "    \"1\":60,\n",
    "    \"2\":60,\n",
    "    \"3\":45,\n",
    "    \"4\":45,\n",
    "    \"5\":60\n",
    "  },\n",
    "  \"Pulse\":{\n",
    "    \"0\":110,\n",
    "    \"1\":117,\n",
    "    \"2\":103,\n",
    "    \"3\":109,\n",
    "    \"4\":117,\n",
    "    \"5\":102\n",
    "  },\n",
    "  \"Maxpulse\":{\n",
    "    \"0\":130,\n",
    "    \"1\":145,\n",
    "    \"2\":135,\n",
    "    \"3\":175,\n",
    "    \"4\":148,\n",
    "    \"5\":127\n",
    "  },\n",
    "  \"Calories\":{\n",
    "    \"0\":409,\n",
    "    \"1\":479,\n",
    "    \"2\":340,\n",
    "    \"3\":282,\n",
    "    \"4\":406,\n",
    "    \"5\":300\n",
    "  }\n",
    "}\n"
   ]
  },
  {
   "cell_type": "code",
   "execution_count": 2,
   "id": "eb527cd1-1885-4439-9048-0ddc1057fe2f",
   "metadata": {},
   "outputs": [],
   "source": [
    "# importing module\n",
    "import pandas as pd"
   ]
  },
  {
   "cell_type": "code",
   "execution_count": 3,
   "id": "0e67bf71-8320-4feb-a3e8-c567988b7a14",
   "metadata": {},
   "outputs": [
    {
     "name": "stdout",
     "output_type": "stream",
     "text": [
      "   Duration  Pulse  Maxpulse  Calories\n",
      "0        60    110       130       409\n",
      "1        60    117       145       479\n",
      "2        60    103       135       340\n",
      "3        45    109       175       282\n",
      "4        45    117       148       406\n",
      "5        60    102       127       300\n"
     ]
    }
   ],
   "source": [
    "# Read the JSON Data from local using DataFrame \n",
    "data_frame = pd.DataFrame(exercise)\n",
    "print(data_frame)"
   ]
  },
  {
   "cell_type": "code",
   "execution_count": 4,
   "id": "1c7218b7-b1e4-4429-acf2-5751a7609ead",
   "metadata": {},
   "outputs": [],
   "source": [
    "# Save the JSON data to a file (example.json)\n",
    "data_frame.to_json('example.json')"
   ]
  },
  {
   "cell_type": "code",
   "execution_count": 18,
   "id": "4300e09d-c7cb-4ab9-8c6d-ddebfee23c25",
   "metadata": {},
   "outputs": [
    {
     "name": "stdout",
     "output_type": "stream",
     "text": [
      "   Duration  Pulse  Maxpulse  Calories\n",
      "0        60    110       130       409\n",
      "1        60    117       145       479\n",
      "2        60    103       135       340\n",
      "3        45    109       175       282\n",
      "4        45    117       148       406\n",
      "5        60    102       127       300\n"
     ]
    }
   ],
   "source": [
    "# Read the JSON Data from a file using read_json\n",
    "read_data = pd.read_json('example.json')\n",
    "print(read_data)"
   ]
  },
  {
   "cell_type": "markdown",
   "id": "8aadf9b5-5870-4670-858b-b124ab2b7cea",
   "metadata": {},
   "source": [
    "### XML File"
   ]
  },
  {
   "cell_type": "code",
   "execution_count": 17,
   "id": "1e8756f6-3433-4f39-957d-f49c2227b112",
   "metadata": {},
   "outputs": [],
   "source": [
    "# importing module\n",
    "import xml.etree.ElementTree as ET"
   ]
  },
  {
   "cell_type": "code",
   "execution_count": 7,
   "id": "326ce937-0ce9-45f2-bd92-36a54ad5aa8b",
   "metadata": {},
   "outputs": [],
   "source": [
    "# Parse the XML File\n",
    "tree = ET.parse('library.xml')\n",
    "root = tree.getroot()"
   ]
  },
  {
   "cell_type": "code",
   "execution_count": 13,
   "id": "f3c9add1-49a2-43a8-90c2-7e5660fbd4e9",
   "metadata": {},
   "outputs": [
    {
     "name": "stdout",
     "output_type": "stream",
     "text": [
      "{'id': '1', 'title': 'Python for Data Science', 'author': 'John Doe', 'genre': 'Data Science', 'price': '29.99'}\n",
      "{'id': '2', 'title': 'Machine Learning Basics', 'author': 'Jane Smith', 'genre': 'Machine Learning', 'price': '39.99'}\n"
     ]
    }
   ],
   "source": [
    "# Create a list to store dictionaries representing each book\n",
    "books_list = []\n",
    "\n",
    "# Iterate through each <book> element\n",
    "for book_elem in root.findall('.//book'):\n",
    "    book_dict = {}\n",
    "    book_dict['id'] = book_elem.get('id')\n",
    "    \n",
    "    # print(book_dict) # return the id of the books\n",
    "    # print(book_elem) # return the address of the books\n",
    "\n",
    "    for child_elem in book_elem:\n",
    "        book_dict[child_elem.tag] = child_elem.text\n",
    "    print(book_dict)\n",
    "    books_list.append(book_dict)\n"
   ]
  },
  {
   "cell_type": "code",
   "execution_count": 14,
   "id": "8c1a0980-375d-4d64-ae02-e7a86cdf06fb",
   "metadata": {},
   "outputs": [
    {
     "name": "stdout",
     "output_type": "stream",
     "text": [
      "[{'id': '1', 'title': 'Python for Data Science', 'author': 'John Doe', 'genre': 'Data Science', 'price': '29.99'}, {'id': '2', 'title': 'Machine Learning Basics', 'author': 'Jane Smith', 'genre': 'Machine Learning', 'price': '39.99'}]\n"
     ]
    }
   ],
   "source": [
    "print(books_list)"
   ]
  },
  {
   "cell_type": "code",
   "execution_count": 15,
   "id": "0f45c1a0-f44b-4eb8-a04c-e0b4bfabb7cc",
   "metadata": {},
   "outputs": [
    {
     "name": "stdout",
     "output_type": "stream",
     "text": [
      "  id                    title      author             genre  price\n",
      "0  1  Python for Data Science    John Doe      Data Science  29.99\n",
      "1  2  Machine Learning Basics  Jane Smith  Machine Learning  39.99\n"
     ]
    }
   ],
   "source": [
    "# Create a Pandas DataFrame from the list of dictionaries\n",
    "df = pd.DataFrame(books_list)\n",
    "\n",
    "# Display the DataFrame\n",
    "print(df)"
   ]
  },
  {
   "cell_type": "markdown",
   "id": "54bb4c05-ca23-4d5c-b838-aead644ea7d3",
   "metadata": {},
   "source": [
    "### HTML file"
   ]
  },
  {
   "cell_type": "code",
   "execution_count": 16,
   "id": "7378507c-74ce-44c5-8ad9-3d7d2eb64fa7",
   "metadata": {},
   "outputs": [
    {
     "name": "stdout",
     "output_type": "stream",
     "text": [
      "[    Name  Age  Salary\n",
      "0   John   24   20000\n",
      "1   Adam   31   35000\n",
      "2  Chris   27   32000]\n"
     ]
    }
   ],
   "source": [
    "df_list = pd.read_html(\"employee.html\")    # invoking read_html() to load employee.html file\n",
    "print(df_list)    # print out parsed html file data as data frames"
   ]
  },
  {
   "cell_type": "code",
   "execution_count": null,
   "id": "55b7152a-71ac-47fd-9591-944b20e8b0ee",
   "metadata": {},
   "outputs": [],
   "source": []
  }
 ],
 "metadata": {
  "kernelspec": {
   "display_name": "Python 3 (ipykernel)",
   "language": "python",
   "name": "python3"
  },
  "language_info": {
   "codemirror_mode": {
    "name": "ipython",
    "version": 3
   },
   "file_extension": ".py",
   "mimetype": "text/x-python",
   "name": "python",
   "nbconvert_exporter": "python",
   "pygments_lexer": "ipython3",
   "version": "3.11.7"
  }
 },
 "nbformat": 4,
 "nbformat_minor": 5
}
