{
 "cells": [
  {
   "cell_type": "code",
   "execution_count": 1,
   "id": "abeb411a-7d1b-465c-b1c6-c98583ed1ce4",
   "metadata": {},
   "outputs": [],
   "source": [
    "import pandas as pd"
   ]
  },
  {
   "cell_type": "code",
   "execution_count": 2,
   "id": "858cf2e5-7e87-4956-b89a-4d972eb57ce6",
   "metadata": {},
   "outputs": [
    {
     "name": "stdout",
     "output_type": "stream",
     "text": [
      "                                            Address       Date      Time\n",
      "0     N-101,Newtown,Electronic City,Banglore,560100 2022-04-03  08:30:21\n",
      "1  A-39,Vivekananda Road,Girish Park,Kolkata,700006 2022-04-02  05:30:21\n"
     ]
    }
   ],
   "source": [
    "data_frame =pd.read_excel(r'C:\\Users\\LENOVO\\Desktop\\Naresh IT\\26th - Pandas\\Book1.xlsx')\n",
    "print(data_frame)"
   ]
  },
  {
   "cell_type": "code",
   "execution_count": 3,
   "id": "5fa58c76-d534-437b-8cbc-55b2957c6c8b",
   "metadata": {},
   "outputs": [],
   "source": [
    "# Split the Address into Street No, Street Name, Area, City, ZipCode\n",
    "data_frame[['Street No','Street Name','Area','City','ZipCode']]=data_frame['Address'].str.split(',',expand=True)"
   ]
  },
  {
   "cell_type": "code",
   "execution_count": 4,
   "id": "6dc6a2a8-9ab7-4ef6-8207-7935494cc080",
   "metadata": {},
   "outputs": [],
   "source": [
    "# Drop the original 'Address' column\n",
    "data_frame.drop(columns=['Address'], inplace=True)"
   ]
  },
  {
   "cell_type": "code",
   "execution_count": 5,
   "id": "beaac793-cc11-46c5-8228-2bd00fea1cc4",
   "metadata": {},
   "outputs": [
    {
     "data": {
      "text/html": [
       "<div>\n",
       "<style scoped>\n",
       "    .dataframe tbody tr th:only-of-type {\n",
       "        vertical-align: middle;\n",
       "    }\n",
       "\n",
       "    .dataframe tbody tr th {\n",
       "        vertical-align: top;\n",
       "    }\n",
       "\n",
       "    .dataframe thead th {\n",
       "        text-align: right;\n",
       "    }\n",
       "</style>\n",
       "<table border=\"1\" class=\"dataframe\">\n",
       "  <thead>\n",
       "    <tr style=\"text-align: right;\">\n",
       "      <th></th>\n",
       "      <th>Date</th>\n",
       "      <th>Time</th>\n",
       "      <th>Street No</th>\n",
       "      <th>Street Name</th>\n",
       "      <th>Area</th>\n",
       "      <th>City</th>\n",
       "      <th>ZipCode</th>\n",
       "    </tr>\n",
       "  </thead>\n",
       "  <tbody>\n",
       "    <tr>\n",
       "      <th>0</th>\n",
       "      <td>2022-04-03</td>\n",
       "      <td>08:30:21</td>\n",
       "      <td>N-101</td>\n",
       "      <td>Newtown</td>\n",
       "      <td>Electronic City</td>\n",
       "      <td>Banglore</td>\n",
       "      <td>560100</td>\n",
       "    </tr>\n",
       "    <tr>\n",
       "      <th>1</th>\n",
       "      <td>2022-04-02</td>\n",
       "      <td>05:30:21</td>\n",
       "      <td>A-39</td>\n",
       "      <td>Vivekananda Road</td>\n",
       "      <td>Girish Park</td>\n",
       "      <td>Kolkata</td>\n",
       "      <td>700006</td>\n",
       "    </tr>\n",
       "  </tbody>\n",
       "</table>\n",
       "</div>"
      ],
      "text/plain": [
       "        Date      Time Street No       Street Name             Area      City  \\\n",
       "0 2022-04-03  08:30:21     N-101           Newtown  Electronic City  Banglore   \n",
       "1 2022-04-02  05:30:21      A-39  Vivekananda Road      Girish Park   Kolkata   \n",
       "\n",
       "  ZipCode  \n",
       "0  560100  \n",
       "1  700006  "
      ]
     },
     "execution_count": 5,
     "metadata": {},
     "output_type": "execute_result"
    }
   ],
   "source": [
    "data_frame"
   ]
  },
  {
   "cell_type": "code",
   "execution_count": 6,
   "id": "681a0348-ac35-4bbb-b167-10ac0b258f09",
   "metadata": {},
   "outputs": [],
   "source": [
    "# Split the Date into Date, Month, Year\n",
    "data_frame[['date','month','year']]=data_frame['Date'].astype(str).str.split('-',expand=True)"
   ]
  },
  {
   "cell_type": "code",
   "execution_count": 7,
   "id": "0cc46014-e585-4e27-a8e0-9d408224dabd",
   "metadata": {},
   "outputs": [],
   "source": [
    "# Drop the original 'Date' column\n",
    "data_frame.drop(columns=['Date'], inplace=True)"
   ]
  },
  {
   "cell_type": "code",
   "execution_count": 8,
   "id": "114a662b-bce0-46df-9c85-fbd84693d81f",
   "metadata": {},
   "outputs": [
    {
     "data": {
      "text/html": [
       "<div>\n",
       "<style scoped>\n",
       "    .dataframe tbody tr th:only-of-type {\n",
       "        vertical-align: middle;\n",
       "    }\n",
       "\n",
       "    .dataframe tbody tr th {\n",
       "        vertical-align: top;\n",
       "    }\n",
       "\n",
       "    .dataframe thead th {\n",
       "        text-align: right;\n",
       "    }\n",
       "</style>\n",
       "<table border=\"1\" class=\"dataframe\">\n",
       "  <thead>\n",
       "    <tr style=\"text-align: right;\">\n",
       "      <th></th>\n",
       "      <th>Time</th>\n",
       "      <th>Street No</th>\n",
       "      <th>Street Name</th>\n",
       "      <th>Area</th>\n",
       "      <th>City</th>\n",
       "      <th>ZipCode</th>\n",
       "      <th>date</th>\n",
       "      <th>month</th>\n",
       "      <th>year</th>\n",
       "    </tr>\n",
       "  </thead>\n",
       "  <tbody>\n",
       "    <tr>\n",
       "      <th>0</th>\n",
       "      <td>08:30:21</td>\n",
       "      <td>N-101</td>\n",
       "      <td>Newtown</td>\n",
       "      <td>Electronic City</td>\n",
       "      <td>Banglore</td>\n",
       "      <td>560100</td>\n",
       "      <td>2022</td>\n",
       "      <td>04</td>\n",
       "      <td>03</td>\n",
       "    </tr>\n",
       "    <tr>\n",
       "      <th>1</th>\n",
       "      <td>05:30:21</td>\n",
       "      <td>A-39</td>\n",
       "      <td>Vivekananda Road</td>\n",
       "      <td>Girish Park</td>\n",
       "      <td>Kolkata</td>\n",
       "      <td>700006</td>\n",
       "      <td>2022</td>\n",
       "      <td>04</td>\n",
       "      <td>02</td>\n",
       "    </tr>\n",
       "  </tbody>\n",
       "</table>\n",
       "</div>"
      ],
      "text/plain": [
       "       Time Street No       Street Name             Area      City ZipCode  \\\n",
       "0  08:30:21     N-101           Newtown  Electronic City  Banglore  560100   \n",
       "1  05:30:21      A-39  Vivekananda Road      Girish Park   Kolkata  700006   \n",
       "\n",
       "   date month year  \n",
       "0  2022    04   03  \n",
       "1  2022    04   02  "
      ]
     },
     "execution_count": 8,
     "metadata": {},
     "output_type": "execute_result"
    }
   ],
   "source": [
    "data_frame"
   ]
  },
  {
   "cell_type": "code",
   "execution_count": 9,
   "id": "858ace1c-eebe-4a60-8f5e-7244ad54b971",
   "metadata": {},
   "outputs": [],
   "source": [
    "# Split the Time into Hours, Minutes, Seconds\n",
    "data_frame[['hours','min','sec']]=data_frame['Time'].astype(str).str.split(':',expand=True)"
   ]
  },
  {
   "cell_type": "code",
   "execution_count": 10,
   "id": "e8edc3ab-eb92-4a7f-85f4-2a7fdce4e844",
   "metadata": {},
   "outputs": [],
   "source": [
    "# Drop the original 'Time' column\n",
    "data_frame.drop(columns=['Time'], inplace=True)"
   ]
  },
  {
   "cell_type": "code",
   "execution_count": 11,
   "id": "29ce9291-5748-464f-9fab-fc9e5634cd62",
   "metadata": {},
   "outputs": [
    {
     "data": {
      "text/html": [
       "<div>\n",
       "<style scoped>\n",
       "    .dataframe tbody tr th:only-of-type {\n",
       "        vertical-align: middle;\n",
       "    }\n",
       "\n",
       "    .dataframe tbody tr th {\n",
       "        vertical-align: top;\n",
       "    }\n",
       "\n",
       "    .dataframe thead th {\n",
       "        text-align: right;\n",
       "    }\n",
       "</style>\n",
       "<table border=\"1\" class=\"dataframe\">\n",
       "  <thead>\n",
       "    <tr style=\"text-align: right;\">\n",
       "      <th></th>\n",
       "      <th>Street No</th>\n",
       "      <th>Street Name</th>\n",
       "      <th>Area</th>\n",
       "      <th>City</th>\n",
       "      <th>ZipCode</th>\n",
       "      <th>date</th>\n",
       "      <th>month</th>\n",
       "      <th>year</th>\n",
       "      <th>hours</th>\n",
       "      <th>min</th>\n",
       "      <th>sec</th>\n",
       "    </tr>\n",
       "  </thead>\n",
       "  <tbody>\n",
       "    <tr>\n",
       "      <th>0</th>\n",
       "      <td>N-101</td>\n",
       "      <td>Newtown</td>\n",
       "      <td>Electronic City</td>\n",
       "      <td>Banglore</td>\n",
       "      <td>560100</td>\n",
       "      <td>2022</td>\n",
       "      <td>04</td>\n",
       "      <td>03</td>\n",
       "      <td>08</td>\n",
       "      <td>30</td>\n",
       "      <td>21</td>\n",
       "    </tr>\n",
       "    <tr>\n",
       "      <th>1</th>\n",
       "      <td>A-39</td>\n",
       "      <td>Vivekananda Road</td>\n",
       "      <td>Girish Park</td>\n",
       "      <td>Kolkata</td>\n",
       "      <td>700006</td>\n",
       "      <td>2022</td>\n",
       "      <td>04</td>\n",
       "      <td>02</td>\n",
       "      <td>05</td>\n",
       "      <td>30</td>\n",
       "      <td>21</td>\n",
       "    </tr>\n",
       "  </tbody>\n",
       "</table>\n",
       "</div>"
      ],
      "text/plain": [
       "  Street No       Street Name             Area      City ZipCode  date month  \\\n",
       "0     N-101           Newtown  Electronic City  Banglore  560100  2022    04   \n",
       "1      A-39  Vivekananda Road      Girish Park   Kolkata  700006  2022    04   \n",
       "\n",
       "  year hours min sec  \n",
       "0   03    08  30  21  \n",
       "1   02    05  30  21  "
      ]
     },
     "execution_count": 11,
     "metadata": {},
     "output_type": "execute_result"
    }
   ],
   "source": [
    "data_frame"
   ]
  },
  {
   "cell_type": "code",
   "execution_count": null,
   "id": "ce251f7f-be35-4479-b957-888b67cb3839",
   "metadata": {},
   "outputs": [],
   "source": []
  }
 ],
 "metadata": {
  "kernelspec": {
   "display_name": "Python 3 (ipykernel)",
   "language": "python",
   "name": "python3"
  },
  "language_info": {
   "codemirror_mode": {
    "name": "ipython",
    "version": 3
   },
   "file_extension": ".py",
   "mimetype": "text/x-python",
   "name": "python",
   "nbconvert_exporter": "python",
   "pygments_lexer": "ipython3",
   "version": "3.11.7"
  }
 },
 "nbformat": 4,
 "nbformat_minor": 5
}
